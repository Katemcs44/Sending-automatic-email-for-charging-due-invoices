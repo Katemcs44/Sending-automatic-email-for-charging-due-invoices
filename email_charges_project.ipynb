{
 "cells": [
  {
   "cell_type": "markdown",
   "id": "7ce62f91",
   "metadata": {},
   "source": [
    "We have an excel databases where I control payments made by clients and who has paid and who has due invoices. I want to send automatic emails charging the due invoices from a certain date."
   ]
  },
  {
   "cell_type": "markdown",
   "id": "02df1f70",
   "metadata": {},
   "source": [
    "\"\"\" 1 - Installing libraries we will use in our program. We need\n",
    "pip install pywin32 (to allow us to program automatic emails through outlook).\n",
    "pip install panda (to use data analysis functions in python).\n",
    "pip install date time (to use date functions in python).\n",
    "\n",
    "This must be done in the terminal only the first time.\n",
    "\"\"\""
   ]
  },
  {
   "cell_type": "code",
   "execution_count": 32,
   "id": "62bcfb05",
   "metadata": {},
   "outputs": [],
   "source": [
    "# 2 - Importing the libraries to this file\n",
    "\n",
    "import win32com.client as client\n",
    "import pandas as pd\n",
    "import datetime as dt"
   ]
  },
  {
   "cell_type": "code",
   "execution_count": null,
   "id": "009fe70f",
   "metadata": {},
   "outputs": [
    {
     "data": {
      "application/vnd.microsoft.datawrangler.viewer.v0+json": {
       "columns": [
        {
         "name": "index",
         "rawType": "int64",
         "type": "integer"
        },
        {
         "name": "CPF",
         "rawType": "int64",
         "type": "integer"
        },
        {
         "name": "Valor em aberto",
         "rawType": "int64",
         "type": "integer"
        },
        {
         "name": "Data Prevista para pagamento",
         "rawType": "datetime64[ns]",
         "type": "datetime"
        },
        {
         "name": "Status",
         "rawType": "object",
         "type": "string"
        },
        {
         "name": "E-mail",
         "rawType": "object",
         "type": "string"
        },
        {
         "name": "NF",
         "rawType": "int64",
         "type": "integer"
        }
       ],
       "ref": "00fc4fab-fd1e-48c2-ad74-c5343e6dd7f4",
       "rows": [
        [
         "0",
         "44204824413",
         "1195",
         "2022-01-23 00:00:00",
         "Pago",
         "meuclientedevedor@gmail.com",
         "197"
        ],
        [
         "1",
         "27333842934",
         "1670",
         "2022-01-26 00:00:00",
         "Em aberto",
         "meuclientedevedor+1@gmail.com",
         "177"
        ],
        [
         "2",
         "27337412934",
         "1345",
         "2022-01-12 00:00:00",
         "Em aberto",
         "meuclientedevedor+2@gmail.com",
         "133"
        ],
        [
         "3",
         "53713111219",
         "1372",
         "2022-01-24 00:00:00",
         "Em aberto",
         "meuclientedevedor+3@gmail.com",
         "155"
        ],
        [
         "4",
         "17537122867",
         "1718",
         "2022-01-31 00:00:00",
         "Pago",
         "meuclientedevedor+4@gmail.com",
         "149"
        ],
        [
         "5",
         "54769185414",
         "1533",
         "2022-01-13 00:00:00",
         "Em aberto",
         "meuclientedevedor+5@gmail.com",
         "118"
        ],
        [
         "6",
         "44744009510",
         "1411",
         "2022-01-12 00:00:00",
         "Em aberto",
         "meuclientedevedor+6@gmail.com",
         "191"
        ],
        [
         "7",
         "89923855350",
         "1107",
         "2022-01-14 00:00:00",
         "Pago",
         "meuclientedevedor+7@gmail.com",
         "161"
        ],
        [
         "8",
         "79605450645",
         "1735",
         "2022-01-16 00:00:00",
         "Pago",
         "meuclientedevedor+8@gmail.com",
         "141"
        ],
        [
         "9",
         "80512149720",
         "1007",
         "2022-01-11 00:00:00",
         "Em aberto",
         "meuclientedevedor+9@gmail.com",
         "172"
        ],
        [
         "10",
         "18783293271",
         "1253",
         "2022-01-27 00:00:00",
         "Em aberto",
         "meuclientedevedor+10@gmail.com",
         "172"
        ],
        [
         "11",
         "54000892769",
         "1484",
         "2022-01-11 00:00:00",
         "Pago",
         "meuclientedevedor+11@gmail.com",
         "130"
        ],
        [
         "12",
         "37832398818",
         "1221",
         "2022-01-28 00:00:00",
         "Pago",
         "meuclientedevedor+12@gmail.com",
         "109"
        ],
        [
         "13",
         "16906745501",
         "1437",
         "2022-01-19 00:00:00",
         "Pago",
         "meuclientedevedor+13@gmail.com",
         "164"
        ],
        [
         "14",
         "15591892284",
         "1284",
         "2022-01-31 00:00:00",
         "Pago",
         "meuclientedevedor+14@gmail.com",
         "100"
        ],
        [
         "15",
         "49987814992",
         "1901",
         "2022-01-12 00:00:00",
         "Em aberto",
         "meuclientedevedor+15@gmail.com",
         "108"
        ],
        [
         "16",
         "17515970402",
         "1594",
         "2022-01-28 00:00:00",
         "Em aberto",
         "meuclientedevedor+16@gmail.com",
         "112"
        ],
        [
         "17",
         "40106011726",
         "1520",
         "2022-01-16 00:00:00",
         "Em aberto",
         "meuclientedevedor+17@gmail.com",
         "111"
        ],
        [
         "18",
         "67208111659",
         "1666",
         "2022-01-20 00:00:00",
         "Em aberto",
         "meuclientedevedor+18@gmail.com",
         "129"
        ],
        [
         "19",
         "36315602030",
         "1339",
         "2022-01-19 00:00:00",
         "Em aberto",
         "meuclientedevedor+19@gmail.com",
         "179"
        ],
        [
         "20",
         "55613917748",
         "1014",
         "2022-01-21 00:00:00",
         "Em aberto",
         "meuclientedevedor+20@gmail.com",
         "124"
        ],
        [
         "21",
         "68917446842",
         "1061",
         "2022-01-12 00:00:00",
         "Em aberto",
         "meuclientedevedor+21@gmail.com",
         "127"
        ],
        [
         "22",
         "44102581244",
         "1781",
         "2022-01-31 00:00:00",
         "Pago",
         "meuclientedevedor+22@gmail.com",
         "198"
        ],
        [
         "23",
         "80156624117",
         "1718",
         "2022-01-21 00:00:00",
         "Em aberto",
         "meuclientedevedor+23@gmail.com",
         "145"
        ],
        [
         "24",
         "70408755052",
         "1724",
         "2022-01-29 00:00:00",
         "Em aberto",
         "meuclientedevedor+24@gmail.com",
         "106"
        ],
        [
         "25",
         "32358402215",
         "1958",
         "2022-01-30 00:00:00",
         "Pago",
         "meuclientedevedor+25@gmail.com",
         "170"
        ],
        [
         "26",
         "86344030204",
         "1667",
         "2022-01-24 00:00:00",
         "Pago",
         "meuclientedevedor+26@gmail.com",
         "117"
        ],
        [
         "27",
         "58930560018",
         "1927",
         "2022-01-20 00:00:00",
         "Em aberto",
         "meuclientedevedor+27@gmail.com",
         "122"
        ],
        [
         "28",
         "39305572425",
         "1546",
         "2022-01-23 00:00:00",
         "Em aberto",
         "meuclientedevedor+28@gmail.com",
         "114"
        ],
        [
         "29",
         "32079077034",
         "1297",
         "2022-01-25 00:00:00",
         "Pago",
         "meuclientedevedor+29@gmail.com",
         "133"
        ],
        [
         "30",
         "92017442104",
         "1713",
         "2022-01-27 00:00:00",
         "Em aberto",
         "meuclientedevedor+30@gmail.com",
         "162"
        ],
        [
         "31",
         "63401445370",
         "1479",
         "2022-01-19 00:00:00",
         "Pago",
         "meuclientedevedor+31@gmail.com",
         "104"
        ],
        [
         "32",
         "17054237613",
         "1850",
         "2022-01-30 00:00:00",
         "Pago",
         "meuclientedevedor+32@gmail.com",
         "127"
        ],
        [
         "33",
         "57022841743",
         "1044",
         "2022-01-13 00:00:00",
         "Em aberto",
         "meuclientedevedor+33@gmail.com",
         "163"
        ],
        [
         "34",
         "59988163538",
         "1402",
         "2022-01-29 00:00:00",
         "Pago",
         "meuclientedevedor+34@gmail.com",
         "137"
        ],
        [
         "35",
         "72711864402",
         "1356",
         "2022-01-25 00:00:00",
         "Pago",
         "meuclientedevedor+35@gmail.com",
         "125"
        ],
        [
         "36",
         "28105752743",
         "1370",
         "2022-01-12 00:00:00",
         "Em aberto",
         "meuclientedevedor+36@gmail.com",
         "135"
        ],
        [
         "37",
         "51847658778",
         "1430",
         "2022-01-26 00:00:00",
         "Em aberto",
         "meuclientedevedor+37@gmail.com",
         "166"
        ],
        [
         "38",
         "19729678549",
         "1438",
         "2022-01-12 00:00:00",
         "Em aberto",
         "meuclientedevedor+38@gmail.com",
         "105"
        ],
        [
         "39",
         "76950348368",
         "1389",
         "2022-01-23 00:00:00",
         "Em aberto",
         "meuclientedevedor+39@gmail.com",
         "155"
        ],
        [
         "40",
         "87124524348",
         "1602",
         "2022-01-17 00:00:00",
         "Pago",
         "meuclientedevedor+40@gmail.com",
         "165"
        ],
        [
         "41",
         "56493630270",
         "1619",
         "2022-01-14 00:00:00",
         "Pago",
         "meuclientedevedor+41@gmail.com",
         "103"
        ],
        [
         "42",
         "63053869726",
         "1585",
         "2022-01-30 00:00:00",
         "Em aberto",
         "meuclientedevedor+42@gmail.com",
         "166"
        ],
        [
         "43",
         "67152791280",
         "1353",
         "2022-01-17 00:00:00",
         "Pago",
         "meuclientedevedor+43@gmail.com",
         "111"
        ],
        [
         "44",
         "76253428798",
         "1434",
         "2022-01-25 00:00:00",
         "Pago",
         "meuclientedevedor+44@gmail.com",
         "167"
        ],
        [
         "45",
         "63120020112",
         "1815",
         "2022-01-25 00:00:00",
         "Em aberto",
         "meuclientedevedor+45@gmail.com",
         "152"
        ],
        [
         "46",
         "12948126929",
         "1892",
         "2022-01-16 00:00:00",
         "Em aberto",
         "meuclientedevedor+46@gmail.com",
         "102"
        ],
        [
         "47",
         "58505144105",
         "1366",
         "2022-01-22 00:00:00",
         "Pago",
         "meuclientedevedor+47@gmail.com",
         "162"
        ],
        [
         "48",
         "55817587694",
         "1716",
         "2022-01-31 00:00:00",
         "Em aberto",
         "meuclientedevedor+48@gmail.com",
         "130"
        ],
        [
         "49",
         "77445167917",
         "1031",
         "2022-01-31 00:00:00",
         "Em aberto",
         "meuclientedevedor+49@gmail.com",
         "114"
        ]
       ],
       "shape": {
        "columns": 6,
        "rows": 200
       }
      },
      "text/html": [
       "<div>\n",
       "<style scoped>\n",
       "    .dataframe tbody tr th:only-of-type {\n",
       "        vertical-align: middle;\n",
       "    }\n",
       "\n",
       "    .dataframe tbody tr th {\n",
       "        vertical-align: top;\n",
       "    }\n",
       "\n",
       "    .dataframe thead th {\n",
       "        text-align: right;\n",
       "    }\n",
       "</style>\n",
       "<table border=\"1\" class=\"dataframe\">\n",
       "  <thead>\n",
       "    <tr style=\"text-align: right;\">\n",
       "      <th></th>\n",
       "      <th>CPF</th>\n",
       "      <th>Valor em aberto</th>\n",
       "      <th>Data Prevista para pagamento</th>\n",
       "      <th>Status</th>\n",
       "      <th>E-mail</th>\n",
       "      <th>NF</th>\n",
       "    </tr>\n",
       "  </thead>\n",
       "  <tbody>\n",
       "    <tr>\n",
       "      <th>0</th>\n",
       "      <td>44204824413</td>\n",
       "      <td>1195</td>\n",
       "      <td>2022-01-23</td>\n",
       "      <td>Pago</td>\n",
       "      <td>meuclientedevedor@gmail.com</td>\n",
       "      <td>197</td>\n",
       "    </tr>\n",
       "    <tr>\n",
       "      <th>1</th>\n",
       "      <td>27333842934</td>\n",
       "      <td>1670</td>\n",
       "      <td>2022-01-26</td>\n",
       "      <td>Em aberto</td>\n",
       "      <td>meuclientedevedor+1@gmail.com</td>\n",
       "      <td>177</td>\n",
       "    </tr>\n",
       "    <tr>\n",
       "      <th>2</th>\n",
       "      <td>27337412934</td>\n",
       "      <td>1345</td>\n",
       "      <td>2022-01-12</td>\n",
       "      <td>Em aberto</td>\n",
       "      <td>meuclientedevedor+2@gmail.com</td>\n",
       "      <td>133</td>\n",
       "    </tr>\n",
       "    <tr>\n",
       "      <th>3</th>\n",
       "      <td>53713111219</td>\n",
       "      <td>1372</td>\n",
       "      <td>2022-01-24</td>\n",
       "      <td>Em aberto</td>\n",
       "      <td>meuclientedevedor+3@gmail.com</td>\n",
       "      <td>155</td>\n",
       "    </tr>\n",
       "    <tr>\n",
       "      <th>4</th>\n",
       "      <td>17537122867</td>\n",
       "      <td>1718</td>\n",
       "      <td>2022-01-31</td>\n",
       "      <td>Pago</td>\n",
       "      <td>meuclientedevedor+4@gmail.com</td>\n",
       "      <td>149</td>\n",
       "    </tr>\n",
       "    <tr>\n",
       "      <th>...</th>\n",
       "      <td>...</td>\n",
       "      <td>...</td>\n",
       "      <td>...</td>\n",
       "      <td>...</td>\n",
       "      <td>...</td>\n",
       "      <td>...</td>\n",
       "    </tr>\n",
       "    <tr>\n",
       "      <th>195</th>\n",
       "      <td>26130190204</td>\n",
       "      <td>1060</td>\n",
       "      <td>2022-01-19</td>\n",
       "      <td>Pago</td>\n",
       "      <td>meuclientedevedor+195@gmail.com</td>\n",
       "      <td>134</td>\n",
       "    </tr>\n",
       "    <tr>\n",
       "      <th>196</th>\n",
       "      <td>50695164206</td>\n",
       "      <td>1587</td>\n",
       "      <td>2022-01-21</td>\n",
       "      <td>Pago</td>\n",
       "      <td>meuclientedevedor+196@gmail.com</td>\n",
       "      <td>117</td>\n",
       "    </tr>\n",
       "    <tr>\n",
       "      <th>197</th>\n",
       "      <td>68885370313</td>\n",
       "      <td>1842</td>\n",
       "      <td>2022-01-15</td>\n",
       "      <td>Pago</td>\n",
       "      <td>meuclientedevedor+197@gmail.com</td>\n",
       "      <td>107</td>\n",
       "    </tr>\n",
       "    <tr>\n",
       "      <th>198</th>\n",
       "      <td>58701953352</td>\n",
       "      <td>1604</td>\n",
       "      <td>2022-01-20</td>\n",
       "      <td>Pago</td>\n",
       "      <td>meuclientedevedor+198@gmail.com</td>\n",
       "      <td>116</td>\n",
       "    </tr>\n",
       "    <tr>\n",
       "      <th>199</th>\n",
       "      <td>28986124401</td>\n",
       "      <td>1738</td>\n",
       "      <td>2022-01-27</td>\n",
       "      <td>Pago</td>\n",
       "      <td>meuclientedevedor+199@gmail.com</td>\n",
       "      <td>113</td>\n",
       "    </tr>\n",
       "  </tbody>\n",
       "</table>\n",
       "<p>200 rows × 6 columns</p>\n",
       "</div>"
      ],
      "text/plain": [
       "             CPF  Valor em aberto Data Prevista para pagamento     Status  \\\n",
       "0    44204824413             1195                   2022-01-23       Pago   \n",
       "1    27333842934             1670                   2022-01-26  Em aberto   \n",
       "2    27337412934             1345                   2022-01-12  Em aberto   \n",
       "3    53713111219             1372                   2022-01-24  Em aberto   \n",
       "4    17537122867             1718                   2022-01-31       Pago   \n",
       "..           ...              ...                          ...        ...   \n",
       "195  26130190204             1060                   2022-01-19       Pago   \n",
       "196  50695164206             1587                   2022-01-21       Pago   \n",
       "197  68885370313             1842                   2022-01-15       Pago   \n",
       "198  58701953352             1604                   2022-01-20       Pago   \n",
       "199  28986124401             1738                   2022-01-27       Pago   \n",
       "\n",
       "                              E-mail   NF  \n",
       "0        meuclientedevedor@gmail.com  197  \n",
       "1      meuclientedevedor+1@gmail.com  177  \n",
       "2      meuclientedevedor+2@gmail.com  133  \n",
       "3      meuclientedevedor+3@gmail.com  155  \n",
       "4      meuclientedevedor+4@gmail.com  149  \n",
       "..                               ...  ...  \n",
       "195  meuclientedevedor+195@gmail.com  134  \n",
       "196  meuclientedevedor+196@gmail.com  117  \n",
       "197  meuclientedevedor+197@gmail.com  107  \n",
       "198  meuclientedevedor+198@gmail.com  116  \n",
       "199  meuclientedevedor+199@gmail.com  113  \n",
       "\n",
       "[200 rows x 6 columns]"
      ]
     },
     "metadata": {},
     "output_type": "display_data"
    }
   ],
   "source": [
    "# 3 - Reading and displaying our excel databases.\n",
    "table = pd.read_excel('payments.xlsx')\n",
    "display(table)"
   ]
  },
  {
   "cell_type": "code",
   "execution_count": 34,
   "id": "6954ee0d",
   "metadata": {},
   "outputs": [
    {
     "name": "stdout",
     "output_type": "stream",
     "text": [
      "<class 'pandas.core.frame.DataFrame'>\n",
      "RangeIndex: 200 entries, 0 to 199\n",
      "Data columns (total 6 columns):\n",
      " #   Column                        Non-Null Count  Dtype         \n",
      "---  ------                        --------------  -----         \n",
      " 0   CPF                           200 non-null    int64         \n",
      " 1   Valor em aberto               200 non-null    int64         \n",
      " 2   Data Prevista para pagamento  200 non-null    datetime64[ns]\n",
      " 3   Status                        200 non-null    object        \n",
      " 4   E-mail                        200 non-null    object        \n",
      " 5   NF                            200 non-null    int64         \n",
      "dtypes: datetime64[ns](1), int64(3), object(2)\n",
      "memory usage: 9.5+ KB\n"
     ]
    }
   ],
   "source": [
    "# 4 - Getting informations about the type of our objects - we need to now what kind are our variables\n",
    "table.info()"
   ]
  },
  {
   "cell_type": "code",
   "execution_count": 35,
   "id": "e6d0bc79",
   "metadata": {},
   "outputs": [
    {
     "name": "stdout",
     "output_type": "stream",
     "text": [
      "2025-10-03 11:06:20.466363\n"
     ]
    }
   ],
   "source": [
    "# 5- Verifying which date is today using the function now from the module datetime of the datetime library.\n",
    "today = dt.datetime.now()\n",
    "print(today)"
   ]
  },
  {
   "cell_type": "code",
   "execution_count": null,
   "id": "3d520bd4",
   "metadata": {},
   "outputs": [
    {
     "data": {
      "application/vnd.microsoft.datawrangler.viewer.v0+json": {
       "columns": [
        {
         "name": "index",
         "rawType": "int64",
         "type": "integer"
        },
        {
         "name": "CPF",
         "rawType": "int64",
         "type": "integer"
        },
        {
         "name": "Valor em aberto",
         "rawType": "int64",
         "type": "integer"
        },
        {
         "name": "Data Prevista para pagamento",
         "rawType": "datetime64[ns]",
         "type": "datetime"
        },
        {
         "name": "Status",
         "rawType": "object",
         "type": "string"
        },
        {
         "name": "E-mail",
         "rawType": "object",
         "type": "string"
        },
        {
         "name": "NF",
         "rawType": "int64",
         "type": "integer"
        }
       ],
       "ref": "b80d3b8f-8cec-4193-9acd-bf6a2b69ec4f",
       "rows": [
        [
         "1",
         "27333842934",
         "1670",
         "2022-01-26 00:00:00",
         "Em aberto",
         "meuclientedevedor+1@gmail.com",
         "177"
        ],
        [
         "2",
         "27337412934",
         "1345",
         "2022-01-12 00:00:00",
         "Em aberto",
         "meuclientedevedor+2@gmail.com",
         "133"
        ],
        [
         "3",
         "53713111219",
         "1372",
         "2022-01-24 00:00:00",
         "Em aberto",
         "meuclientedevedor+3@gmail.com",
         "155"
        ],
        [
         "5",
         "54769185414",
         "1533",
         "2022-01-13 00:00:00",
         "Em aberto",
         "meuclientedevedor+5@gmail.com",
         "118"
        ],
        [
         "6",
         "44744009510",
         "1411",
         "2022-01-12 00:00:00",
         "Em aberto",
         "meuclientedevedor+6@gmail.com",
         "191"
        ],
        [
         "9",
         "80512149720",
         "1007",
         "2022-01-11 00:00:00",
         "Em aberto",
         "meuclientedevedor+9@gmail.com",
         "172"
        ],
        [
         "10",
         "18783293271",
         "1253",
         "2022-01-27 00:00:00",
         "Em aberto",
         "meuclientedevedor+10@gmail.com",
         "172"
        ],
        [
         "15",
         "49987814992",
         "1901",
         "2022-01-12 00:00:00",
         "Em aberto",
         "meuclientedevedor+15@gmail.com",
         "108"
        ],
        [
         "16",
         "17515970402",
         "1594",
         "2022-01-28 00:00:00",
         "Em aberto",
         "meuclientedevedor+16@gmail.com",
         "112"
        ],
        [
         "17",
         "40106011726",
         "1520",
         "2022-01-16 00:00:00",
         "Em aberto",
         "meuclientedevedor+17@gmail.com",
         "111"
        ],
        [
         "18",
         "67208111659",
         "1666",
         "2022-01-20 00:00:00",
         "Em aberto",
         "meuclientedevedor+18@gmail.com",
         "129"
        ],
        [
         "19",
         "36315602030",
         "1339",
         "2022-01-19 00:00:00",
         "Em aberto",
         "meuclientedevedor+19@gmail.com",
         "179"
        ],
        [
         "20",
         "55613917748",
         "1014",
         "2022-01-21 00:00:00",
         "Em aberto",
         "meuclientedevedor+20@gmail.com",
         "124"
        ],
        [
         "21",
         "68917446842",
         "1061",
         "2022-01-12 00:00:00",
         "Em aberto",
         "meuclientedevedor+21@gmail.com",
         "127"
        ],
        [
         "23",
         "80156624117",
         "1718",
         "2022-01-21 00:00:00",
         "Em aberto",
         "meuclientedevedor+23@gmail.com",
         "145"
        ],
        [
         "24",
         "70408755052",
         "1724",
         "2022-01-29 00:00:00",
         "Em aberto",
         "meuclientedevedor+24@gmail.com",
         "106"
        ],
        [
         "27",
         "58930560018",
         "1927",
         "2022-01-20 00:00:00",
         "Em aberto",
         "meuclientedevedor+27@gmail.com",
         "122"
        ],
        [
         "28",
         "39305572425",
         "1546",
         "2022-01-23 00:00:00",
         "Em aberto",
         "meuclientedevedor+28@gmail.com",
         "114"
        ],
        [
         "30",
         "92017442104",
         "1713",
         "2022-01-27 00:00:00",
         "Em aberto",
         "meuclientedevedor+30@gmail.com",
         "162"
        ],
        [
         "33",
         "57022841743",
         "1044",
         "2022-01-13 00:00:00",
         "Em aberto",
         "meuclientedevedor+33@gmail.com",
         "163"
        ],
        [
         "36",
         "28105752743",
         "1370",
         "2022-01-12 00:00:00",
         "Em aberto",
         "meuclientedevedor+36@gmail.com",
         "135"
        ],
        [
         "37",
         "51847658778",
         "1430",
         "2022-01-26 00:00:00",
         "Em aberto",
         "meuclientedevedor+37@gmail.com",
         "166"
        ],
        [
         "38",
         "19729678549",
         "1438",
         "2022-01-12 00:00:00",
         "Em aberto",
         "meuclientedevedor+38@gmail.com",
         "105"
        ],
        [
         "39",
         "76950348368",
         "1389",
         "2022-01-23 00:00:00",
         "Em aberto",
         "meuclientedevedor+39@gmail.com",
         "155"
        ],
        [
         "42",
         "63053869726",
         "1585",
         "2022-01-30 00:00:00",
         "Em aberto",
         "meuclientedevedor+42@gmail.com",
         "166"
        ],
        [
         "45",
         "63120020112",
         "1815",
         "2022-01-25 00:00:00",
         "Em aberto",
         "meuclientedevedor+45@gmail.com",
         "152"
        ],
        [
         "46",
         "12948126929",
         "1892",
         "2022-01-16 00:00:00",
         "Em aberto",
         "meuclientedevedor+46@gmail.com",
         "102"
        ],
        [
         "48",
         "55817587694",
         "1716",
         "2022-01-31 00:00:00",
         "Em aberto",
         "meuclientedevedor+48@gmail.com",
         "130"
        ],
        [
         "49",
         "77445167917",
         "1031",
         "2022-01-31 00:00:00",
         "Em aberto",
         "meuclientedevedor+49@gmail.com",
         "114"
        ],
        [
         "51",
         "49974002485",
         "1827",
         "2022-01-15 00:00:00",
         "Em aberto",
         "meuclientedevedor+51@gmail.com",
         "145"
        ],
        [
         "53",
         "80449767750",
         "1704",
         "2022-01-14 00:00:00",
         "Em aberto",
         "meuclientedevedor+53@gmail.com",
         "169"
        ],
        [
         "55",
         "23476750704",
         "1488",
         "2022-01-31 00:00:00",
         "Em aberto",
         "meuclientedevedor+55@gmail.com",
         "105"
        ],
        [
         "56",
         "27159972582",
         "1368",
         "2022-01-25 00:00:00",
         "Em aberto",
         "meuclientedevedor+56@gmail.com",
         "122"
        ],
        [
         "57",
         "29205490743",
         "1245",
         "2022-01-13 00:00:00",
         "Em aberto",
         "meuclientedevedor+57@gmail.com",
         "183"
        ],
        [
         "58",
         "12752688298",
         "1218",
         "2022-01-16 00:00:00",
         "Em aberto",
         "meuclientedevedor+58@gmail.com",
         "101"
        ],
        [
         "59",
         "66912446186",
         "1662",
         "2022-01-13 00:00:00",
         "Em aberto",
         "meuclientedevedor+59@gmail.com",
         "159"
        ],
        [
         "62",
         "40290511917",
         "1317",
         "2022-01-12 00:00:00",
         "Em aberto",
         "meuclientedevedor+62@gmail.com",
         "126"
        ],
        [
         "63",
         "66844043952",
         "1851",
         "2022-01-21 00:00:00",
         "Em aberto",
         "meuclientedevedor+63@gmail.com",
         "197"
        ],
        [
         "67",
         "31521675215",
         "1378",
         "2022-01-17 00:00:00",
         "Em aberto",
         "meuclientedevedor+67@gmail.com",
         "175"
        ],
        [
         "68",
         "93032319922",
         "1153",
         "2022-01-23 00:00:00",
         "Em aberto",
         "meuclientedevedor+68@gmail.com",
         "110"
        ],
        [
         "70",
         "84086798572",
         "1701",
         "2022-01-29 00:00:00",
         "Em aberto",
         "meuclientedevedor+70@gmail.com",
         "183"
        ],
        [
         "71",
         "68016907282",
         "1915",
         "2022-01-19 00:00:00",
         "Em aberto",
         "meuclientedevedor+71@gmail.com",
         "148"
        ],
        [
         "73",
         "62121250153",
         "1271",
         "2022-01-17 00:00:00",
         "Em aberto",
         "meuclientedevedor+73@gmail.com",
         "195"
        ],
        [
         "74",
         "73262259326",
         "1451",
         "2022-01-24 00:00:00",
         "Em aberto",
         "meuclientedevedor+74@gmail.com",
         "133"
        ],
        [
         "75",
         "52611793186",
         "1986",
         "2022-01-29 00:00:00",
         "Em aberto",
         "meuclientedevedor+75@gmail.com",
         "197"
        ],
        [
         "77",
         "46611105303",
         "1091",
         "2022-01-19 00:00:00",
         "Em aberto",
         "meuclientedevedor+77@gmail.com",
         "134"
        ],
        [
         "78",
         "16666967613",
         "1624",
         "2022-01-20 00:00:00",
         "Em aberto",
         "meuclientedevedor+78@gmail.com",
         "156"
        ],
        [
         "79",
         "62609867463",
         "1441",
         "2022-01-26 00:00:00",
         "Em aberto",
         "meuclientedevedor+79@gmail.com",
         "126"
        ],
        [
         "80",
         "75651832722",
         "1989",
         "2022-01-19 00:00:00",
         "Em aberto",
         "meuclientedevedor+80@gmail.com",
         "155"
        ],
        [
         "81",
         "58479627887",
         "1594",
         "2022-01-19 00:00:00",
         "Em aberto",
         "meuclientedevedor+81@gmail.com",
         "165"
        ]
       ],
       "shape": {
        "columns": 6,
        "rows": 108
       }
      },
      "text/html": [
       "<div>\n",
       "<style scoped>\n",
       "    .dataframe tbody tr th:only-of-type {\n",
       "        vertical-align: middle;\n",
       "    }\n",
       "\n",
       "    .dataframe tbody tr th {\n",
       "        vertical-align: top;\n",
       "    }\n",
       "\n",
       "    .dataframe thead th {\n",
       "        text-align: right;\n",
       "    }\n",
       "</style>\n",
       "<table border=\"1\" class=\"dataframe\">\n",
       "  <thead>\n",
       "    <tr style=\"text-align: right;\">\n",
       "      <th></th>\n",
       "      <th>CPF</th>\n",
       "      <th>Valor em aberto</th>\n",
       "      <th>Data Prevista para pagamento</th>\n",
       "      <th>Status</th>\n",
       "      <th>E-mail</th>\n",
       "      <th>NF</th>\n",
       "    </tr>\n",
       "  </thead>\n",
       "  <tbody>\n",
       "    <tr>\n",
       "      <th>1</th>\n",
       "      <td>27333842934</td>\n",
       "      <td>1670</td>\n",
       "      <td>2022-01-26</td>\n",
       "      <td>Em aberto</td>\n",
       "      <td>meuclientedevedor+1@gmail.com</td>\n",
       "      <td>177</td>\n",
       "    </tr>\n",
       "    <tr>\n",
       "      <th>2</th>\n",
       "      <td>27337412934</td>\n",
       "      <td>1345</td>\n",
       "      <td>2022-01-12</td>\n",
       "      <td>Em aberto</td>\n",
       "      <td>meuclientedevedor+2@gmail.com</td>\n",
       "      <td>133</td>\n",
       "    </tr>\n",
       "    <tr>\n",
       "      <th>3</th>\n",
       "      <td>53713111219</td>\n",
       "      <td>1372</td>\n",
       "      <td>2022-01-24</td>\n",
       "      <td>Em aberto</td>\n",
       "      <td>meuclientedevedor+3@gmail.com</td>\n",
       "      <td>155</td>\n",
       "    </tr>\n",
       "    <tr>\n",
       "      <th>5</th>\n",
       "      <td>54769185414</td>\n",
       "      <td>1533</td>\n",
       "      <td>2022-01-13</td>\n",
       "      <td>Em aberto</td>\n",
       "      <td>meuclientedevedor+5@gmail.com</td>\n",
       "      <td>118</td>\n",
       "    </tr>\n",
       "    <tr>\n",
       "      <th>6</th>\n",
       "      <td>44744009510</td>\n",
       "      <td>1411</td>\n",
       "      <td>2022-01-12</td>\n",
       "      <td>Em aberto</td>\n",
       "      <td>meuclientedevedor+6@gmail.com</td>\n",
       "      <td>191</td>\n",
       "    </tr>\n",
       "    <tr>\n",
       "      <th>...</th>\n",
       "      <td>...</td>\n",
       "      <td>...</td>\n",
       "      <td>...</td>\n",
       "      <td>...</td>\n",
       "      <td>...</td>\n",
       "      <td>...</td>\n",
       "    </tr>\n",
       "    <tr>\n",
       "      <th>190</th>\n",
       "      <td>71953312562</td>\n",
       "      <td>1657</td>\n",
       "      <td>2022-01-12</td>\n",
       "      <td>Em aberto</td>\n",
       "      <td>meuclientedevedor+190@gmail.com</td>\n",
       "      <td>178</td>\n",
       "    </tr>\n",
       "    <tr>\n",
       "      <th>191</th>\n",
       "      <td>62203137527</td>\n",
       "      <td>1419</td>\n",
       "      <td>2022-01-16</td>\n",
       "      <td>Em aberto</td>\n",
       "      <td>meuclientedevedor+191@gmail.com</td>\n",
       "      <td>200</td>\n",
       "    </tr>\n",
       "    <tr>\n",
       "      <th>192</th>\n",
       "      <td>34219196712</td>\n",
       "      <td>1018</td>\n",
       "      <td>2022-01-28</td>\n",
       "      <td>Em aberto</td>\n",
       "      <td>meuclientedevedor+192@gmail.com</td>\n",
       "      <td>171</td>\n",
       "    </tr>\n",
       "    <tr>\n",
       "      <th>193</th>\n",
       "      <td>26316453421</td>\n",
       "      <td>1487</td>\n",
       "      <td>2022-01-28</td>\n",
       "      <td>Em aberto</td>\n",
       "      <td>meuclientedevedor+193@gmail.com</td>\n",
       "      <td>129</td>\n",
       "    </tr>\n",
       "    <tr>\n",
       "      <th>194</th>\n",
       "      <td>29777295739</td>\n",
       "      <td>1102</td>\n",
       "      <td>2022-01-13</td>\n",
       "      <td>Em aberto</td>\n",
       "      <td>meuclientedevedor+194@gmail.com</td>\n",
       "      <td>127</td>\n",
       "    </tr>\n",
       "  </tbody>\n",
       "</table>\n",
       "<p>108 rows × 6 columns</p>\n",
       "</div>"
      ],
      "text/plain": [
       "             CPF  Valor em aberto Data Prevista para pagamento     Status  \\\n",
       "1    27333842934             1670                   2022-01-26  Em aberto   \n",
       "2    27337412934             1345                   2022-01-12  Em aberto   \n",
       "3    53713111219             1372                   2022-01-24  Em aberto   \n",
       "5    54769185414             1533                   2022-01-13  Em aberto   \n",
       "6    44744009510             1411                   2022-01-12  Em aberto   \n",
       "..           ...              ...                          ...        ...   \n",
       "190  71953312562             1657                   2022-01-12  Em aberto   \n",
       "191  62203137527             1419                   2022-01-16  Em aberto   \n",
       "192  34219196712             1018                   2022-01-28  Em aberto   \n",
       "193  26316453421             1487                   2022-01-28  Em aberto   \n",
       "194  29777295739             1102                   2022-01-13  Em aberto   \n",
       "\n",
       "                              E-mail   NF  \n",
       "1      meuclientedevedor+1@gmail.com  177  \n",
       "2      meuclientedevedor+2@gmail.com  133  \n",
       "3      meuclientedevedor+3@gmail.com  155  \n",
       "5      meuclientedevedor+5@gmail.com  118  \n",
       "6      meuclientedevedor+6@gmail.com  191  \n",
       "..                               ...  ...  \n",
       "190  meuclientedevedor+190@gmail.com  178  \n",
       "191  meuclientedevedor+191@gmail.com  200  \n",
       "192  meuclientedevedor+192@gmail.com  171  \n",
       "193  meuclientedevedor+193@gmail.com  129  \n",
       "194  meuclientedevedor+194@gmail.com  127  \n",
       "\n",
       "[108 rows x 6 columns]"
      ]
     },
     "metadata": {},
     "output_type": "display_data"
    }
   ],
   "source": [
    "# 6 - Colecting data only from customers who have due invoices according to due date.\n",
    "table_dueinvoices = table.loc[\n",
    "    (table['Status'] == 'Em aberto') & \n",
    "    (table['Data Prevista para pagamento'] < today)]\n",
    "\n",
    "display(table_dueinvoices)"
   ]
  },
  {
   "cell_type": "code",
   "execution_count": null,
   "id": "a49bfe43",
   "metadata": {},
   "outputs": [],
   "source": [
    "# 7 - How to send an automatic email through outlook\n",
    "\n",
    "# Creation of an object to open outlook aplication\n",
    "outlook = client.Dispatch('Outlook.Application')\n",
    "\n",
    "# In case you have more that one account associated with your outlook, we have to determine from which one the email is going to be sent.\n",
    "sender = outlook.session.Accounts['50049839@europeia.pt']\n",
    "\n",
    "\"\"\" Creation of the email;we have to use fuction for to repeat the procedure to each email box; we need to create a list to include in the body\n",
    "of the email each item of our table we intend to include\n",
    "\"\"\"\n",
    "## Creation of the a variable where we use the table due invoices and say to python which columns we want to include in the list.\n",
    "\n",
    "data = table_dueinvoices[['Valor em aberto', 'Data Prevista para pagamento', 'E-mail', 'NF']].values.tolist()\n",
    "\n",
    "for item in data:\n",
    "    recipient = item[2]\n",
    "    nf = item[3]\n",
    "    due_date = item[1]\n",
    "    due_date = due_date.strftime(\"%d/%m/%Y\") #method of datetime to bring this data from datetime model and put it in string model\n",
    "    amount = item[0]\n",
    "\n",
    "# Creation and sending of the email.\n",
    "\n",
    "message = outlook.CreateItem(0)\n",
    "message.display()\n",
    "message.To = recipient\n",
    "message.Subject = 'Atraso no pagamento'\n",
    "message.Body = f'''\n",
    "\n",
    "Dear Customer,\n",
    "\n",
    "We kindly remind you about the payment of the invoice with number {nf} with due date {due_date} of the amount of Eur {amount:.2f}.\n",
    "\n",
    "Kind regards,\n",
    "Joseph Potter\n",
    "'''\n",
    "\n",
    "message._oleobj_.Invoke(*(64209,0,8,0,sender)) #Define wo the sende is.\n",
    "message.Save() #Saving the email.\n",
    "message.Send() #Sending the email."
   ]
  }
 ],
 "metadata": {
  "kernelspec": {
   "display_name": "Python 3",
   "language": "python",
   "name": "python3"
  },
  "language_info": {
   "codemirror_mode": {
    "name": "ipython",
    "version": 3
   },
   "file_extension": ".py",
   "mimetype": "text/x-python",
   "name": "python",
   "nbconvert_exporter": "python",
   "pygments_lexer": "ipython3",
   "version": "3.13.0"
  }
 },
 "nbformat": 4,
 "nbformat_minor": 5
}
